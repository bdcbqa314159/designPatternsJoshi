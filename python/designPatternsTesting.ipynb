{
 "cells": [
  {
   "cell_type": "code",
   "execution_count": 1,
   "id": "ecf75e03",
   "metadata": {},
   "outputs": [],
   "source": [
    "import numpy as np\n",
    "import dpJoshi"
   ]
  },
  {
   "cell_type": "code",
   "execution_count": 2,
   "id": "6baf49be",
   "metadata": {},
   "outputs": [
    {
     "data": {
      "text/plain": [
       "['PayOff',\n",
       " 'PayOff1',\n",
       " 'PayOffCall',\n",
       " 'PayOffPut',\n",
       " '__doc__',\n",
       " '__file__',\n",
       " '__loader__',\n",
       " '__name__',\n",
       " '__package__',\n",
       " '__spec__',\n",
       " 'simpleMC1',\n",
       " 'simpleMC2']"
      ]
     },
     "execution_count": 2,
     "metadata": {},
     "output_type": "execute_result"
    }
   ],
   "source": [
    "dir(dpJoshi)"
   ]
  },
  {
   "cell_type": "markdown",
   "id": "bbb3db6d",
   "metadata": {},
   "source": [
    "# Chapter 1: Testing of SimpleMonteCarlo1 procedural function"
   ]
  },
  {
   "cell_type": "code",
   "execution_count": 3,
   "id": "04e59e8f",
   "metadata": {},
   "outputs": [],
   "source": [
    "Expiry = 1.;\n",
    "Strike = 100;\n",
    "Spot = 100;\n",
    "Vol = 0.2;\n",
    "r = 0.05;\n",
    "NumberOfPaths = 100000;\n",
    "    \n",
    "    \n",
    "result = dpJoshi.simpleMC1(Expiry, Strike, Spot, Vol, r, NumberOfPaths);"
   ]
  },
  {
   "cell_type": "code",
   "execution_count": 4,
   "id": "f4434c63",
   "metadata": {},
   "outputs": [
    {
     "data": {
      "text/plain": [
       "10.489101071914316"
      ]
     },
     "execution_count": 4,
     "metadata": {},
     "output_type": "execute_result"
    }
   ],
   "source": [
    "result"
   ]
  },
  {
   "cell_type": "markdown",
   "id": "9bd1faba",
   "metadata": {},
   "source": [
    "# Chapter 3: Testing of SimpleMonteCarlo2 procedural function"
   ]
  },
  {
   "cell_type": "code",
   "execution_count": 13,
   "id": "c6525f36",
   "metadata": {},
   "outputs": [],
   "source": [
    "callPayOff = dpJoshi.PayOff1(100, dpJoshi.PayOff1.call)\n",
    "putPayOff = dpJoshi.PayOff1(100, dpJoshi.PayOff1.put)\n",
    "\n",
    "Expiry = 1.;\n",
    "Spot = 100;\n",
    "Vol = 0.2;\n",
    "r = 0.05;\n",
    "NumberOfPaths = 100000;"
   ]
  },
  {
   "cell_type": "code",
   "execution_count": 14,
   "id": "94fa3b47",
   "metadata": {},
   "outputs": [],
   "source": [
    "resultCall = dpJoshi.simpleMC2(callPayOff, Expiry, Spot, Vol, r, NumberOfPaths);\n",
    "resultPut = dpJoshi.simpleMC2(putPayOff, Expiry, Spot, Vol, r, NumberOfPaths);"
   ]
  },
  {
   "cell_type": "code",
   "execution_count": 15,
   "id": "158f6f87",
   "metadata": {},
   "outputs": [
    {
     "data": {
      "text/plain": [
       "10.512419038904092"
      ]
     },
     "execution_count": 15,
     "metadata": {},
     "output_type": "execute_result"
    }
   ],
   "source": [
    "resultCall"
   ]
  },
  {
   "cell_type": "code",
   "execution_count": 16,
   "id": "23d18563",
   "metadata": {},
   "outputs": [
    {
     "data": {
      "text/plain": [
       "5.583016581894385"
      ]
     },
     "execution_count": 16,
     "metadata": {},
     "output_type": "execute_result"
    }
   ],
   "source": [
    "resultPut"
   ]
  },
  {
   "cell_type": "markdown",
   "id": "12415d16",
   "metadata": {},
   "source": [
    "# Chapter 3: Testing of SimpleMonteCarlo2 with virtual inheritance for PayOff class"
   ]
  },
  {
   "cell_type": "code",
   "execution_count": 17,
   "id": "8aaf4596",
   "metadata": {},
   "outputs": [],
   "source": [
    "callPayOff = dpJoshi.PayOffCall(100)\n",
    "putPayOff = dpJoshi.PayOffPut(100)\n",
    "\n",
    "Expiry = 1.;\n",
    "Spot = 100;\n",
    "Vol = 0.2;\n",
    "r = 0.05;\n",
    "NumberOfPaths = 100000;"
   ]
  },
  {
   "cell_type": "code",
   "execution_count": 18,
   "id": "40913cd2",
   "metadata": {},
   "outputs": [],
   "source": [
    "resultCall = dpJoshi.simpleMC2(callPayOff, Expiry, Spot, Vol, r, NumberOfPaths);\n",
    "resultPut = dpJoshi.simpleMC2(putPayOff, Expiry, Spot, Vol, r, NumberOfPaths);"
   ]
  },
  {
   "cell_type": "code",
   "execution_count": 19,
   "id": "cba4a131",
   "metadata": {},
   "outputs": [
    {
     "data": {
      "text/plain": [
       "10.382005647318366"
      ]
     },
     "execution_count": 19,
     "metadata": {},
     "output_type": "execute_result"
    }
   ],
   "source": [
    "resultCall"
   ]
  },
  {
   "cell_type": "code",
   "execution_count": 20,
   "id": "1b05f48a",
   "metadata": {},
   "outputs": [
    {
     "data": {
      "text/plain": [
       "5.559546261452104"
      ]
     },
     "execution_count": 20,
     "metadata": {},
     "output_type": "execute_result"
    }
   ],
   "source": [
    "resultPut"
   ]
  },
  {
   "cell_type": "code",
   "execution_count": null,
   "id": "ed9dc28e",
   "metadata": {},
   "outputs": [],
   "source": []
  }
 ],
 "metadata": {
  "kernelspec": {
   "display_name": "Python 3",
   "language": "python",
   "name": "python3"
  },
  "language_info": {
   "codemirror_mode": {
    "name": "ipython",
    "version": 3
   },
   "file_extension": ".py",
   "mimetype": "text/x-python",
   "name": "python",
   "nbconvert_exporter": "python",
   "pygments_lexer": "ipython3",
   "version": "3.8.8"
  }
 },
 "nbformat": 4,
 "nbformat_minor": 5
}
