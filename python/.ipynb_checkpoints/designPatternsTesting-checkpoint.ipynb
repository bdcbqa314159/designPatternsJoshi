{
 "cells": [
  {
   "cell_type": "code",
   "execution_count": 1,
   "id": "ecf75e03",
   "metadata": {},
   "outputs": [],
   "source": [
    "import numpy as np\n",
    "import dpJoshi"
   ]
  },
  {
   "cell_type": "code",
   "execution_count": 2,
   "id": "6baf49be",
   "metadata": {},
   "outputs": [
    {
     "data": {
      "text/plain": [
       "['Parameters',\n",
       " 'ParametersConstant',\n",
       " 'ParametersIner',\n",
       " 'PayOff',\n",
       " 'PayOff1',\n",
       " 'PayOff3',\n",
       " 'PayOffBridge',\n",
       " 'PayOffCall',\n",
       " 'PayOffCall3',\n",
       " 'PayOffDD',\n",
       " 'PayOffDD3',\n",
       " 'PayOffPut',\n",
       " 'PayOffPut3',\n",
       " 'Vanilla1',\n",
       " 'Vanilla2',\n",
       " 'Vanilla3',\n",
       " '__doc__',\n",
       " '__file__',\n",
       " '__loader__',\n",
       " '__name__',\n",
       " '__package__',\n",
       " '__spec__',\n",
       " 'simpleMC1',\n",
       " 'simpleMC2',\n",
       " 'simpleMC3',\n",
       " 'simpleMC4',\n",
       " 'simpleMC5',\n",
       " 'simpleMC6']"
      ]
     },
     "execution_count": 2,
     "metadata": {},
     "output_type": "execute_result"
    }
   ],
   "source": [
    "dir(dpJoshi)"
   ]
  },
  {
   "cell_type": "markdown",
   "id": "bbb3db6d",
   "metadata": {},
   "source": [
    "# Chapter 1: Testing of SimpleMonteCarlo1 procedural function"
   ]
  },
  {
   "cell_type": "code",
   "execution_count": 3,
   "id": "04e59e8f",
   "metadata": {},
   "outputs": [],
   "source": [
    "Expiry = 1.;\n",
    "Strike = 100;\n",
    "Spot = 100;\n",
    "Vol = 0.2;\n",
    "r = 0.05;\n",
    "NumberOfPaths = 100000;\n",
    "    \n",
    "    \n",
    "result = dpJoshi.simpleMC1(Expiry, Strike, Spot, Vol, r, NumberOfPaths);"
   ]
  },
  {
   "cell_type": "code",
   "execution_count": 4,
   "id": "f4434c63",
   "metadata": {},
   "outputs": [
    {
     "data": {
      "text/plain": [
       "10.489101071914316"
      ]
     },
     "execution_count": 4,
     "metadata": {},
     "output_type": "execute_result"
    }
   ],
   "source": [
    "result"
   ]
  },
  {
   "cell_type": "markdown",
   "id": "9bd1faba",
   "metadata": {},
   "source": [
    "# Chapter 3: Testing of SimpleMonteCarlo2 procedural function"
   ]
  },
  {
   "cell_type": "code",
   "execution_count": 5,
   "id": "c6525f36",
   "metadata": {},
   "outputs": [],
   "source": [
    "callPayOff = dpJoshi.PayOff1(100, dpJoshi.PayOff1.call)\n",
    "putPayOff = dpJoshi.PayOff1(100, dpJoshi.PayOff1.put)\n",
    "\n",
    "Expiry = 1.;\n",
    "Spot = 100;\n",
    "Vol = 0.2;\n",
    "r = 0.05;\n",
    "NumberOfPaths = 100000;"
   ]
  },
  {
   "cell_type": "code",
   "execution_count": 6,
   "id": "94fa3b47",
   "metadata": {},
   "outputs": [],
   "source": [
    "resultCall = dpJoshi.simpleMC2(callPayOff, Expiry, Spot, Vol, r, NumberOfPaths);\n",
    "resultPut = dpJoshi.simpleMC2(putPayOff, Expiry, Spot, Vol, r, NumberOfPaths);"
   ]
  },
  {
   "cell_type": "code",
   "execution_count": 7,
   "id": "158f6f87",
   "metadata": {},
   "outputs": [
    {
     "data": {
      "text/plain": [
       "10.47436669067924"
      ]
     },
     "execution_count": 7,
     "metadata": {},
     "output_type": "execute_result"
    }
   ],
   "source": [
    "resultCall"
   ]
  },
  {
   "cell_type": "code",
   "execution_count": 8,
   "id": "23d18563",
   "metadata": {},
   "outputs": [
    {
     "data": {
      "text/plain": [
       "5.5559632048892515"
      ]
     },
     "execution_count": 8,
     "metadata": {},
     "output_type": "execute_result"
    }
   ],
   "source": [
    "resultPut"
   ]
  },
  {
   "cell_type": "markdown",
   "id": "12415d16",
   "metadata": {},
   "source": [
    "# Chapter 3: Testing of SimpleMonteCarlo2 with virtual inheritance for PayOff class"
   ]
  },
  {
   "cell_type": "code",
   "execution_count": 9,
   "id": "8aaf4596",
   "metadata": {},
   "outputs": [],
   "source": [
    "callPayOff = dpJoshi.PayOffCall(100)\n",
    "putPayOff = dpJoshi.PayOffPut(100)\n",
    "doubleDigitalPayOff = dpJoshi.PayOffDD(100,120)\n",
    "\n",
    "Expiry = 1.;\n",
    "Spot = 100;\n",
    "Vol = 0.2;\n",
    "r = 0.05;\n",
    "NumberOfPaths = 100000;"
   ]
  },
  {
   "cell_type": "code",
   "execution_count": 10,
   "id": "40913cd2",
   "metadata": {},
   "outputs": [],
   "source": [
    "resultCall = dpJoshi.simpleMC2(callPayOff, Expiry, Spot, Vol, r, NumberOfPaths);\n",
    "resultPut = dpJoshi.simpleMC2(putPayOff, Expiry, Spot, Vol, r, NumberOfPaths);\n",
    "resultDD = dpJoshi.simpleMC2(doubleDigitalPayOff, Expiry, Spot, Vol, r, NumberOfPaths);\n"
   ]
  },
  {
   "cell_type": "code",
   "execution_count": 11,
   "id": "cba4a131",
   "metadata": {},
   "outputs": [
    {
     "data": {
      "text/plain": [
       "10.466119485719426"
      ]
     },
     "execution_count": 11,
     "metadata": {},
     "output_type": "execute_result"
    }
   ],
   "source": [
    "resultCall"
   ]
  },
  {
   "cell_type": "code",
   "execution_count": 12,
   "id": "1b05f48a",
   "metadata": {},
   "outputs": [
    {
     "data": {
      "text/plain": [
       "5.560518126914602"
      ]
     },
     "execution_count": 12,
     "metadata": {},
     "output_type": "execute_result"
    }
   ],
   "source": [
    "resultPut"
   ]
  },
  {
   "cell_type": "code",
   "execution_count": 13,
   "id": "ed9dc28e",
   "metadata": {},
   "outputs": [
    {
     "data": {
      "text/plain": [
       "0.3177486769602185"
      ]
     },
     "execution_count": 13,
     "metadata": {},
     "output_type": "execute_result"
    }
   ],
   "source": [
    "resultDD"
   ]
  },
  {
   "cell_type": "markdown",
   "id": "3f97572c",
   "metadata": {},
   "source": [
    "# Chapter 4: Testing of SimpleMonteCarlo3 with Vanilla1 & PayOff classes"
   ]
  },
  {
   "cell_type": "code",
   "execution_count": 14,
   "id": "c568f526",
   "metadata": {},
   "outputs": [],
   "source": [
    "Expiry = 1.;\n",
    "Spot = 100;\n",
    "Vol = 0.2;\n",
    "r = 0.05;\n",
    "NumberOfPaths = 1000000;\n",
    "\n",
    "doubleDigitalPayOff = dpJoshi.PayOffDD(100,120)\n",
    "theOption = dpJoshi.Vanilla1(doubleDigitalPayOff, Expiry)"
   ]
  },
  {
   "cell_type": "code",
   "execution_count": 15,
   "id": "80753d7c",
   "metadata": {},
   "outputs": [],
   "source": [
    "resultDD = dpJoshi.simpleMC3(theOption, Spot, Vol, r, NumberOfPaths);\n",
    "y = dpJoshi.Vanilla1(theOption)\n",
    "resultDD = dpJoshi.simpleMC3(y, Spot, Vol, r, NumberOfPaths);"
   ]
  },
  {
   "cell_type": "code",
   "execution_count": 16,
   "id": "49679f5b",
   "metadata": {},
   "outputs": [
    {
     "data": {
      "text/plain": [
       "0.3200401886438407"
      ]
     },
     "execution_count": 16,
     "metadata": {},
     "output_type": "execute_result"
    }
   ],
   "source": [
    "resultDD"
   ]
  },
  {
   "cell_type": "markdown",
   "id": "06a8581a",
   "metadata": {},
   "source": [
    "# Testing of SimpleMonteCarlo4 with Vanilla2 & PayOff3 classes"
   ]
  },
  {
   "cell_type": "code",
   "execution_count": 17,
   "id": "75963d9c",
   "metadata": {},
   "outputs": [],
   "source": [
    "Expiry = 1.;\n",
    "Spot = 100;\n",
    "Vol = 0.2;\n",
    "r = 0.05;\n",
    "NumberOfPaths = 1000000;\n",
    "\n",
    "doubleDigitalPayOff = dpJoshi.PayOffDD3(100,120)\n",
    "theOption = dpJoshi.Vanilla2(doubleDigitalPayOff, Expiry)"
   ]
  },
  {
   "cell_type": "code",
   "execution_count": 18,
   "id": "cce9f3ae",
   "metadata": {},
   "outputs": [],
   "source": [
    "y = dpJoshi.Vanilla2(theOption)\n",
    "resultDD_ = dpJoshi.simpleMC4(y, Spot, Vol, r, NumberOfPaths);\n",
    "#resultDD_ = dpJoshi.simpleMC4(theOption, Spot, Vol, r, NumberOfPaths);\n"
   ]
  },
  {
   "cell_type": "code",
   "execution_count": 19,
   "id": "b034c694",
   "metadata": {},
   "outputs": [
    {
     "data": {
      "text/plain": [
       "0.3202875082942109"
      ]
     },
     "execution_count": 19,
     "metadata": {},
     "output_type": "execute_result"
    }
   ],
   "source": [
    "resultDD_"
   ]
  },
  {
   "cell_type": "markdown",
   "id": "d8cc0b94",
   "metadata": {},
   "source": [
    "# Testing of SimpleMonteCarlo5 with Vanilla3, PayOffBridge & PayOff3 classes"
   ]
  },
  {
   "cell_type": "code",
   "execution_count": 20,
   "id": "f58ed386",
   "metadata": {},
   "outputs": [],
   "source": [
    "Expiry = 1.;\n",
    "Spot = 100;\n",
    "Vol = 0.2;\n",
    "r = 0.05;\n",
    "NumberOfPaths = 1000000;\n",
    "\n",
    "doubleDigitalPayOff = dpJoshi.PayOffDD3(100,120)\n",
    "payOffBridgeDD = dpJoshi.PayOffBridge(doubleDigitalPayOff)\n",
    "theOption = dpJoshi.Vanilla3(payOffBridgeDD, Expiry)"
   ]
  },
  {
   "cell_type": "code",
   "execution_count": 21,
   "id": "47a0e727",
   "metadata": {},
   "outputs": [],
   "source": [
    "resultDD = dpJoshi.simpleMC5(theOption, Spot, Vol, r, NumberOfPaths);"
   ]
  },
  {
   "cell_type": "code",
   "execution_count": 22,
   "id": "967439f8",
   "metadata": {},
   "outputs": [
    {
     "data": {
      "text/plain": [
       "0.3203331673065869"
      ]
     },
     "execution_count": 22,
     "metadata": {},
     "output_type": "execute_result"
    }
   ],
   "source": [
    "resultDD"
   ]
  },
  {
   "cell_type": "markdown",
   "id": "146baaff",
   "metadata": {},
   "source": [
    "# Testing of SimpleMonteCarlo6 with Vanilla3, PayOffBridge, PayOff3 & Parameters classes"
   ]
  },
  {
   "cell_type": "code",
   "execution_count": 23,
   "id": "5aaccb3f",
   "metadata": {},
   "outputs": [],
   "source": [
    "Expiry = 1.;\n",
    "Spot = 100;\n",
    "Vol = 0.2;\n",
    "r = 0.05;\n",
    "NumberOfPaths = 1000000;"
   ]
  },
  {
   "cell_type": "code",
   "execution_count": 26,
   "id": "3f182132",
   "metadata": {},
   "outputs": [],
   "source": [
    "doubleDigitalPayOff = dpJoshi.PayOffDD3(100,120)\n",
    "payOffBridgeDD = dpJoshi.PayOffBridge(doubleDigitalPayOff)\n",
    "theOption = dpJoshi.Vanilla3(payOffBridgeDD, Expiry)\n",
    "\n",
    "VolParamCons = dpJoshi.ParametersConstant(Vol)\n",
    "rParamCons = dpJoshi.ParametersConstant(r)\n",
    "\n",
    "VolParam = dpJoshi.Parameters(VolParamCons)\n",
    "rParam = dpJoshi.Parameters(rParamCons)\n"
   ]
  },
  {
   "cell_type": "code",
   "execution_count": 27,
   "id": "cfb5da3e",
   "metadata": {},
   "outputs": [],
   "source": [
    "resultDD = dpJoshi.simpleMC6(theOption, Spot, VolParam, rParam, NumberOfPaths);"
   ]
  },
  {
   "cell_type": "code",
   "execution_count": 28,
   "id": "9eba7d70",
   "metadata": {},
   "outputs": [
    {
     "data": {
      "text/plain": [
       "0.3200487497086612"
      ]
     },
     "execution_count": 28,
     "metadata": {},
     "output_type": "execute_result"
    }
   ],
   "source": [
    "resultDD"
   ]
  },
  {
   "cell_type": "code",
   "execution_count": null,
   "id": "410ab757",
   "metadata": {},
   "outputs": [],
   "source": []
  }
 ],
 "metadata": {
  "kernelspec": {
   "display_name": "Python 3",
   "language": "python",
   "name": "python3"
  },
  "language_info": {
   "codemirror_mode": {
    "name": "ipython",
    "version": 3
   },
   "file_extension": ".py",
   "mimetype": "text/x-python",
   "name": "python",
   "nbconvert_exporter": "python",
   "pygments_lexer": "ipython3",
   "version": "3.8.8"
  }
 },
 "nbformat": 4,
 "nbformat_minor": 5
}
