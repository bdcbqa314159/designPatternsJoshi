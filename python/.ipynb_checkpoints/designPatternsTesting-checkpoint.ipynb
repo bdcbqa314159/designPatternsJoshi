{
 "cells": [
  {
   "cell_type": "code",
   "execution_count": 1,
   "id": "ecf75e03",
   "metadata": {},
   "outputs": [],
   "source": [
    "import numpy as np\n",
    "import dpJoshi"
   ]
  },
  {
   "cell_type": "code",
   "execution_count": 2,
   "id": "6baf49be",
   "metadata": {},
   "outputs": [
    {
     "data": {
      "text/plain": [
       "['__doc__',\n",
       " '__file__',\n",
       " '__loader__',\n",
       " '__name__',\n",
       " '__package__',\n",
       " '__spec__',\n",
       " 'simpleMC']"
      ]
     },
     "execution_count": 2,
     "metadata": {},
     "output_type": "execute_result"
    }
   ],
   "source": [
    "dir(dpJoshi)"
   ]
  },
  {
   "cell_type": "markdown",
   "id": "bbb3db6d",
   "metadata": {},
   "source": [
    "# Chapter 1: Testing of SimpleMonteCarlo1 procedural function"
   ]
  },
  {
   "cell_type": "code",
   "execution_count": 4,
   "id": "04e59e8f",
   "metadata": {},
   "outputs": [],
   "source": [
    "Expiry = 1.;\n",
    "Strike = 100;\n",
    "Spot = 100;\n",
    "Vol = 0.2;\n",
    "r = 0.05;\n",
    "NumberOfPaths = 100000;\n",
    "    \n",
    "    \n",
    "result = dpJoshi.simpleMC(Expiry, Strike, Spot, Vol, r, NumberOfPaths);"
   ]
  },
  {
   "cell_type": "code",
   "execution_count": 5,
   "id": "f4434c63",
   "metadata": {},
   "outputs": [
    {
     "data": {
      "text/plain": [
       "10.489101071914316"
      ]
     },
     "execution_count": 5,
     "metadata": {},
     "output_type": "execute_result"
    }
   ],
   "source": [
    "result"
   ]
  },
  {
   "cell_type": "code",
   "execution_count": null,
   "id": "0551280e",
   "metadata": {},
   "outputs": [],
   "source": []
  }
 ],
 "metadata": {
  "kernelspec": {
   "display_name": "Python 3",
   "language": "python",
   "name": "python3"
  },
  "language_info": {
   "codemirror_mode": {
    "name": "ipython",
    "version": 3
   },
   "file_extension": ".py",
   "mimetype": "text/x-python",
   "name": "python",
   "nbconvert_exporter": "python",
   "pygments_lexer": "ipython3",
   "version": "3.8.8"
  }
 },
 "nbformat": 4,
 "nbformat_minor": 5
}
