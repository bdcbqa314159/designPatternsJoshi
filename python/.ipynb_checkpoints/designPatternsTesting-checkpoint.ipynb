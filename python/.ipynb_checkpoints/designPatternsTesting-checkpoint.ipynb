{
 "cells": [
  {
   "cell_type": "code",
   "execution_count": 1,
   "id": "ecf75e03",
   "metadata": {},
   "outputs": [],
   "source": [
    "import numpy as np\n",
    "import dpJoshi"
   ]
  },
  {
   "cell_type": "code",
   "execution_count": 2,
   "id": "6baf49be",
   "metadata": {},
   "outputs": [
    {
     "data": {
      "text/plain": [
       "['Antithetic',\n",
       " 'BlackScholesCall',\n",
       " 'BlackScholesCallVega',\n",
       " 'BlackScholesDigitalCall',\n",
       " 'BlackScholesDigitalPut',\n",
       " 'BlackScholesPut',\n",
       " 'CashFlow',\n",
       " 'ConvergenceTable',\n",
       " 'ExoticBSEngine',\n",
       " 'ExoticEngine',\n",
       " 'MJArray',\n",
       " 'Parameters',\n",
       " 'ParametersConstant',\n",
       " 'ParametersInner',\n",
       " 'PathDependent',\n",
       " 'PathDependentAsian',\n",
       " 'PayOff',\n",
       " 'PayOff1',\n",
       " 'PayOff3',\n",
       " 'PayOffBridge',\n",
       " 'PayOffCall',\n",
       " 'PayOffCall3',\n",
       " 'PayOffDD',\n",
       " 'PayOffDD3',\n",
       " 'PayOffForward',\n",
       " 'PayOffPut',\n",
       " 'PayOffPut3',\n",
       " 'RandomBase',\n",
       " 'RandomParkMiller',\n",
       " 'SimpleBinomialTree',\n",
       " 'StatisticsMC',\n",
       " 'StatisticsMean',\n",
       " 'TreeAmerican',\n",
       " 'TreeEuropean',\n",
       " 'TreeProduct',\n",
       " 'Vanilla1',\n",
       " 'Vanilla2',\n",
       " 'Vanilla3',\n",
       " 'WrapperPathDependent',\n",
       " 'WrapperRandom',\n",
       " 'WrapperStats',\n",
       " '__doc__',\n",
       " '__file__',\n",
       " '__loader__',\n",
       " '__name__',\n",
       " '__package__',\n",
       " '__spec__',\n",
       " 'simpleMC1',\n",
       " 'simpleMC2',\n",
       " 'simpleMC3',\n",
       " 'simpleMC4',\n",
       " 'simpleMC5',\n",
       " 'simpleMC6',\n",
       " 'simpleMC7',\n",
       " 'simpleMC8']"
      ]
     },
     "execution_count": 2,
     "metadata": {},
     "output_type": "execute_result"
    }
   ],
   "source": [
    "dir(dpJoshi)"
   ]
  },
  {
   "cell_type": "markdown",
   "id": "bbb3db6d",
   "metadata": {},
   "source": [
    "# Chapter 1: Testing of SimpleMonteCarlo1 procedural function"
   ]
  },
  {
   "cell_type": "code",
   "execution_count": 3,
   "id": "04e59e8f",
   "metadata": {},
   "outputs": [],
   "source": [
    "Expiry = 1.;\n",
    "Strike = 100;\n",
    "Spot = 100;\n",
    "Vol = 0.2;\n",
    "r = 0.05;\n",
    "NumberOfPaths = 100000;\n",
    "    \n",
    "    \n",
    "result = dpJoshi.simpleMC1(Expiry, Strike, Spot, Vol, r, NumberOfPaths);"
   ]
  },
  {
   "cell_type": "code",
   "execution_count": 4,
   "id": "f4434c63",
   "metadata": {},
   "outputs": [
    {
     "data": {
      "text/plain": [
       "10.489101071914316"
      ]
     },
     "execution_count": 4,
     "metadata": {},
     "output_type": "execute_result"
    }
   ],
   "source": [
    "result"
   ]
  },
  {
   "cell_type": "markdown",
   "id": "9bd1faba",
   "metadata": {},
   "source": [
    "# Chapter 3: Testing of SimpleMonteCarlo2 procedural function"
   ]
  },
  {
   "cell_type": "code",
   "execution_count": 5,
   "id": "c6525f36",
   "metadata": {},
   "outputs": [],
   "source": [
    "callPayOff = dpJoshi.PayOff1(100, dpJoshi.PayOff1.call)\n",
    "putPayOff = dpJoshi.PayOff1(100, dpJoshi.PayOff1.put)\n",
    "\n",
    "Expiry = 1.;\n",
    "Spot = 100;\n",
    "Vol = 0.2;\n",
    "r = 0.05;\n",
    "NumberOfPaths = 100000;"
   ]
  },
  {
   "cell_type": "code",
   "execution_count": 6,
   "id": "94fa3b47",
   "metadata": {},
   "outputs": [],
   "source": [
    "resultCall = dpJoshi.simpleMC2(callPayOff, Expiry, Spot, Vol, r, NumberOfPaths);\n",
    "resultPut = dpJoshi.simpleMC2(putPayOff, Expiry, Spot, Vol, r, NumberOfPaths);"
   ]
  },
  {
   "cell_type": "code",
   "execution_count": 7,
   "id": "158f6f87",
   "metadata": {},
   "outputs": [
    {
     "data": {
      "text/plain": [
       "10.47436669067924"
      ]
     },
     "execution_count": 7,
     "metadata": {},
     "output_type": "execute_result"
    }
   ],
   "source": [
    "resultCall"
   ]
  },
  {
   "cell_type": "code",
   "execution_count": 8,
   "id": "23d18563",
   "metadata": {},
   "outputs": [
    {
     "data": {
      "text/plain": [
       "5.5559632048892515"
      ]
     },
     "execution_count": 8,
     "metadata": {},
     "output_type": "execute_result"
    }
   ],
   "source": [
    "resultPut"
   ]
  },
  {
   "cell_type": "markdown",
   "id": "12415d16",
   "metadata": {},
   "source": [
    "# Chapter 3: Testing of SimpleMonteCarlo2 with virtual inheritance for PayOff class"
   ]
  },
  {
   "cell_type": "code",
   "execution_count": 9,
   "id": "8aaf4596",
   "metadata": {},
   "outputs": [],
   "source": [
    "callPayOff = dpJoshi.PayOffCall(100)\n",
    "putPayOff = dpJoshi.PayOffPut(100)\n",
    "doubleDigitalPayOff = dpJoshi.PayOffDD(100,120)\n",
    "\n",
    "Expiry = 1.;\n",
    "Spot = 100;\n",
    "Vol = 0.2;\n",
    "r = 0.05;\n",
    "NumberOfPaths = 100000;"
   ]
  },
  {
   "cell_type": "code",
   "execution_count": 10,
   "id": "40913cd2",
   "metadata": {},
   "outputs": [],
   "source": [
    "resultCall = dpJoshi.simpleMC2(callPayOff, Expiry, Spot, Vol, r, NumberOfPaths);\n",
    "resultPut = dpJoshi.simpleMC2(putPayOff, Expiry, Spot, Vol, r, NumberOfPaths);\n",
    "resultDD = dpJoshi.simpleMC2(doubleDigitalPayOff, Expiry, Spot, Vol, r, NumberOfPaths);\n"
   ]
  },
  {
   "cell_type": "code",
   "execution_count": 11,
   "id": "cba4a131",
   "metadata": {},
   "outputs": [
    {
     "data": {
      "text/plain": [
       "10.466119485719426"
      ]
     },
     "execution_count": 11,
     "metadata": {},
     "output_type": "execute_result"
    }
   ],
   "source": [
    "resultCall"
   ]
  },
  {
   "cell_type": "code",
   "execution_count": 12,
   "id": "1b05f48a",
   "metadata": {},
   "outputs": [
    {
     "data": {
      "text/plain": [
       "5.560518126914602"
      ]
     },
     "execution_count": 12,
     "metadata": {},
     "output_type": "execute_result"
    }
   ],
   "source": [
    "resultPut"
   ]
  },
  {
   "cell_type": "code",
   "execution_count": 13,
   "id": "ed9dc28e",
   "metadata": {},
   "outputs": [
    {
     "data": {
      "text/plain": [
       "0.3177486769602185"
      ]
     },
     "execution_count": 13,
     "metadata": {},
     "output_type": "execute_result"
    }
   ],
   "source": [
    "resultDD"
   ]
  },
  {
   "cell_type": "markdown",
   "id": "3f97572c",
   "metadata": {},
   "source": [
    "# Chapter 4: Testing of SimpleMonteCarlo3 with Vanilla1 & PayOff classes"
   ]
  },
  {
   "cell_type": "code",
   "execution_count": 14,
   "id": "c568f526",
   "metadata": {},
   "outputs": [],
   "source": [
    "Expiry = 1.;\n",
    "Spot = 100;\n",
    "Vol = 0.2;\n",
    "r = 0.05;\n",
    "NumberOfPaths = 1000000;\n",
    "\n",
    "doubleDigitalPayOff = dpJoshi.PayOffDD(100,120)\n",
    "theOption = dpJoshi.Vanilla1(doubleDigitalPayOff, Expiry)"
   ]
  },
  {
   "cell_type": "code",
   "execution_count": 15,
   "id": "80753d7c",
   "metadata": {},
   "outputs": [],
   "source": [
    "resultDD = dpJoshi.simpleMC3(theOption, Spot, Vol, r, NumberOfPaths);\n",
    "y = dpJoshi.Vanilla1(theOption)\n",
    "resultDD = dpJoshi.simpleMC3(y, Spot, Vol, r, NumberOfPaths);"
   ]
  },
  {
   "cell_type": "code",
   "execution_count": 16,
   "id": "49679f5b",
   "metadata": {},
   "outputs": [
    {
     "data": {
      "text/plain": [
       "0.3200401886438407"
      ]
     },
     "execution_count": 16,
     "metadata": {},
     "output_type": "execute_result"
    }
   ],
   "source": [
    "resultDD"
   ]
  },
  {
   "cell_type": "markdown",
   "id": "06a8581a",
   "metadata": {},
   "source": [
    "# Testing of SimpleMonteCarlo4 with Vanilla2 & PayOff3 classes"
   ]
  },
  {
   "cell_type": "code",
   "execution_count": 17,
   "id": "75963d9c",
   "metadata": {},
   "outputs": [],
   "source": [
    "Expiry = 1.;\n",
    "Spot = 100;\n",
    "Vol = 0.2;\n",
    "r = 0.05;\n",
    "NumberOfPaths = 1000000;\n",
    "\n",
    "doubleDigitalPayOff = dpJoshi.PayOffDD3(100,120)\n",
    "theOption = dpJoshi.Vanilla2(doubleDigitalPayOff, Expiry)"
   ]
  },
  {
   "cell_type": "code",
   "execution_count": 18,
   "id": "cce9f3ae",
   "metadata": {},
   "outputs": [],
   "source": [
    "y = dpJoshi.Vanilla2(theOption)\n",
    "resultDD_ = dpJoshi.simpleMC4(y, Spot, Vol, r, NumberOfPaths);\n",
    "#resultDD_ = dpJoshi.simpleMC4(theOption, Spot, Vol, r, NumberOfPaths);\n"
   ]
  },
  {
   "cell_type": "code",
   "execution_count": 19,
   "id": "b034c694",
   "metadata": {},
   "outputs": [
    {
     "data": {
      "text/plain": [
       "0.3202875082942109"
      ]
     },
     "execution_count": 19,
     "metadata": {},
     "output_type": "execute_result"
    }
   ],
   "source": [
    "resultDD_"
   ]
  },
  {
   "cell_type": "markdown",
   "id": "d8cc0b94",
   "metadata": {},
   "source": [
    "# Testing of SimpleMonteCarlo5 with Vanilla3, PayOffBridge & PayOff3 classes"
   ]
  },
  {
   "cell_type": "code",
   "execution_count": 20,
   "id": "f58ed386",
   "metadata": {},
   "outputs": [],
   "source": [
    "Expiry = 1.;\n",
    "Spot = 100;\n",
    "Vol = 0.2;\n",
    "r = 0.05;\n",
    "NumberOfPaths = 1000000;\n",
    "\n",
    "doubleDigitalPayOff = dpJoshi.PayOffDD3(100,120)\n",
    "payOffBridgeDD = dpJoshi.PayOffBridge(doubleDigitalPayOff)\n",
    "theOption = dpJoshi.Vanilla3(payOffBridgeDD, Expiry)"
   ]
  },
  {
   "cell_type": "code",
   "execution_count": 21,
   "id": "47a0e727",
   "metadata": {},
   "outputs": [],
   "source": [
    "resultDD = dpJoshi.simpleMC5(theOption, Spot, Vol, r, NumberOfPaths);"
   ]
  },
  {
   "cell_type": "code",
   "execution_count": 22,
   "id": "967439f8",
   "metadata": {},
   "outputs": [
    {
     "data": {
      "text/plain": [
       "0.3203331673065869"
      ]
     },
     "execution_count": 22,
     "metadata": {},
     "output_type": "execute_result"
    }
   ],
   "source": [
    "resultDD"
   ]
  },
  {
   "cell_type": "markdown",
   "id": "146baaff",
   "metadata": {},
   "source": [
    "# Testing of SimpleMonteCarlo6 with Vanilla3, PayOffBridge, PayOff3 & Parameters classes"
   ]
  },
  {
   "cell_type": "code",
   "execution_count": 23,
   "id": "5aaccb3f",
   "metadata": {},
   "outputs": [],
   "source": [
    "Expiry = 1.;\n",
    "Spot = 100;\n",
    "Vol = 0.2;\n",
    "r = 0.05;\n",
    "NumberOfPaths = 1000000;"
   ]
  },
  {
   "cell_type": "code",
   "execution_count": 24,
   "id": "3f182132",
   "metadata": {},
   "outputs": [],
   "source": [
    "doubleDigitalPayOff = dpJoshi.PayOffDD3(100,120)\n",
    "payOffBridgeDD = dpJoshi.PayOffBridge(doubleDigitalPayOff)\n",
    "theOption = dpJoshi.Vanilla3(payOffBridgeDD, Expiry)\n",
    "\n",
    "VolParamCons = dpJoshi.ParametersConstant(Vol)\n",
    "rParamCons = dpJoshi.ParametersConstant(r)\n",
    "\n",
    "VolParam = dpJoshi.Parameters(VolParamCons)\n",
    "rParam = dpJoshi.Parameters(rParamCons)\n"
   ]
  },
  {
   "cell_type": "code",
   "execution_count": 25,
   "id": "cfb5da3e",
   "metadata": {},
   "outputs": [],
   "source": [
    "resultDD = dpJoshi.simpleMC6(theOption, Spot, VolParam, rParam, NumberOfPaths);"
   ]
  },
  {
   "cell_type": "code",
   "execution_count": 26,
   "id": "9eba7d70",
   "metadata": {},
   "outputs": [
    {
     "data": {
      "text/plain": [
       "0.3200487497086612"
      ]
     },
     "execution_count": 26,
     "metadata": {},
     "output_type": "execute_result"
    }
   ],
   "source": [
    "resultDD"
   ]
  },
  {
   "cell_type": "markdown",
   "id": "357cb0da",
   "metadata": {},
   "source": [
    "# Chapter 5: Testing of SimpleMonteCarlo7 MCStatistics class"
   ]
  },
  {
   "cell_type": "code",
   "execution_count": 27,
   "id": "30b7c855",
   "metadata": {},
   "outputs": [],
   "source": [
    "Expiry = 1.;\n",
    "Spot = 100;\n",
    "Vol = 0.2;\n",
    "r = 0.05;\n",
    "NumberOfPaths = 1000000;"
   ]
  },
  {
   "cell_type": "code",
   "execution_count": 28,
   "id": "98cc0353",
   "metadata": {},
   "outputs": [],
   "source": [
    "doubleDigitalPayOff = dpJoshi.PayOffDD3(100,120)\n",
    "payOffBridgeDD = dpJoshi.PayOffBridge(doubleDigitalPayOff)\n",
    "theOption = dpJoshi.Vanilla3(payOffBridgeDD, Expiry)\n",
    "\n",
    "VolParamCons = dpJoshi.ParametersConstant(Vol)\n",
    "rParamCons = dpJoshi.ParametersConstant(r)\n",
    "\n",
    "VolParam = dpJoshi.Parameters(VolParamCons)\n",
    "rParam = dpJoshi.Parameters(rParamCons)"
   ]
  },
  {
   "cell_type": "code",
   "execution_count": 29,
   "id": "0f88e39a",
   "metadata": {},
   "outputs": [],
   "source": [
    "gatherer = dpJoshi.StatisticsMean()"
   ]
  },
  {
   "cell_type": "code",
   "execution_count": 30,
   "id": "7126b253",
   "metadata": {},
   "outputs": [],
   "source": [
    "dpJoshi.simpleMC7(theOption, Spot, VolParam, rParam, NumberOfPaths, gatherer);"
   ]
  },
  {
   "cell_type": "code",
   "execution_count": 31,
   "id": "d21961e6",
   "metadata": {},
   "outputs": [
    {
     "data": {
      "text/plain": [
       "array([[0.31977289]])"
      ]
     },
     "execution_count": 31,
     "metadata": {},
     "output_type": "execute_result"
    }
   ],
   "source": [
    "gatherer.GetResultSoFar()"
   ]
  },
  {
   "cell_type": "markdown",
   "id": "13bcb89f",
   "metadata": {},
   "source": [
    "# Testing of SimpleMonteCarlo7 MCStatistics & ConvergenceTable classes"
   ]
  },
  {
   "cell_type": "code",
   "execution_count": 32,
   "id": "b1d5c550",
   "metadata": {},
   "outputs": [],
   "source": [
    "Expiry = 1.;\n",
    "Spot = 100;\n",
    "Vol = 0.2;\n",
    "r = 0.05;\n",
    "NumberOfPaths = 1000000;"
   ]
  },
  {
   "cell_type": "code",
   "execution_count": 33,
   "id": "a5ff7750",
   "metadata": {},
   "outputs": [],
   "source": [
    "doubleDigitalPayOff = dpJoshi.PayOffDD3(100,120)\n",
    "payOffBridgeDD = dpJoshi.PayOffBridge(doubleDigitalPayOff)\n",
    "theOption = dpJoshi.Vanilla3(payOffBridgeDD, Expiry)\n",
    "\n",
    "VolParamCons = dpJoshi.ParametersConstant(Vol)\n",
    "rParamCons = dpJoshi.ParametersConstant(r)\n",
    "\n",
    "VolParam = dpJoshi.Parameters(VolParamCons)\n",
    "rParam = dpJoshi.Parameters(rParamCons)"
   ]
  },
  {
   "cell_type": "code",
   "execution_count": 34,
   "id": "54fd6ff4",
   "metadata": {},
   "outputs": [],
   "source": [
    "gatherer = dpJoshi.StatisticsMean()"
   ]
  },
  {
   "cell_type": "code",
   "execution_count": 35,
   "id": "4cafe215",
   "metadata": {},
   "outputs": [],
   "source": [
    "wrapper = dpJoshi.WrapperStats(gatherer)\n",
    "gathererTwo = dpJoshi.ConvergenceTable(wrapper)"
   ]
  },
  {
   "cell_type": "code",
   "execution_count": 36,
   "id": "4c27fd65",
   "metadata": {},
   "outputs": [],
   "source": [
    "dpJoshi.simpleMC7(theOption, Spot, VolParam, rParam, NumberOfPaths, gathererTwo);"
   ]
  },
  {
   "cell_type": "code",
   "execution_count": 37,
   "id": "7805cbad",
   "metadata": {},
   "outputs": [
    {
     "data": {
      "text/plain": [
       "array([[0.00000000e+00, 2.00000000e+00],\n",
       "       [2.37807356e-01, 4.00000000e+00],\n",
       "       [2.37807356e-01, 8.00000000e+00],\n",
       "       [3.56711034e-01, 1.60000000e+01],\n",
       "       [3.56711034e-01, 3.20000000e+01],\n",
       "       [3.12122155e-01, 6.40000000e+01],\n",
       "       [2.82396235e-01, 1.28000000e+02],\n",
       "       [3.04690675e-01, 2.56000000e+02],\n",
       "       [2.95401325e-01, 5.12000000e+02],\n",
       "       [3.14908960e-01, 1.02400000e+03],\n",
       "       [3.19553635e-01, 2.04800000e+03],\n",
       "       [3.18856934e-01, 4.09600000e+03],\n",
       "       [3.19089167e-01, 8.19200000e+03],\n",
       "       [3.18276349e-01, 1.63840000e+04],\n",
       "       [3.18653729e-01, 3.27680000e+04],\n",
       "       [3.20293880e-01, 6.55360000e+04],\n",
       "       [3.21636481e-01, 1.31072000e+05],\n",
       "       [3.21233701e-01, 2.62144000e+05],\n",
       "       [3.20366453e-01, 5.24288000e+05],\n",
       "       [3.20558609e-01, 1.00000000e+06]])"
      ]
     },
     "execution_count": 37,
     "metadata": {},
     "output_type": "execute_result"
    }
   ],
   "source": [
    "gathererTwo.GetResultSoFar()"
   ]
  },
  {
   "cell_type": "markdown",
   "id": "7f19c97d",
   "metadata": {},
   "source": [
    "# Chapter 6: Testing of SimpleMonteCarlo8 & random numbers generator"
   ]
  },
  {
   "cell_type": "code",
   "execution_count": 38,
   "id": "1be5e57d",
   "metadata": {},
   "outputs": [],
   "source": [
    "Expiry = 1.;\n",
    "Spot = 100;\n",
    "Vol = 0.2;\n",
    "r = 0.05;\n",
    "NumberOfPaths = 1000000;"
   ]
  },
  {
   "cell_type": "code",
   "execution_count": 39,
   "id": "2994c051",
   "metadata": {},
   "outputs": [],
   "source": [
    "doubleDigitalPayOff = dpJoshi.PayOffDD3(100,120)\n",
    "payOffBridgeDD = dpJoshi.PayOffBridge(doubleDigitalPayOff)\n",
    "theOption = dpJoshi.Vanilla3(payOffBridgeDD, Expiry)\n",
    "\n",
    "VolParamCons = dpJoshi.ParametersConstant(Vol)\n",
    "rParamCons = dpJoshi.ParametersConstant(r)\n",
    "\n",
    "VolParam = dpJoshi.Parameters(VolParamCons)\n",
    "rParam = dpJoshi.Parameters(rParamCons)"
   ]
  },
  {
   "cell_type": "code",
   "execution_count": 40,
   "id": "6c2c8f76",
   "metadata": {},
   "outputs": [],
   "source": [
    "gatherer = dpJoshi.StatisticsMean()\n",
    "wrapper = dpJoshi.WrapperStats(gatherer)\n",
    "gathererTwo = dpJoshi.ConvergenceTable(wrapper)"
   ]
  },
  {
   "cell_type": "code",
   "execution_count": 41,
   "id": "f98a508c",
   "metadata": {},
   "outputs": [],
   "source": [
    "generator = dpJoshi.RandomParkMiller(1,1)\n",
    "wrapper2 = dpJoshi.WrapperRandom(generator)\n",
    "genTwo = dpJoshi.Antithetic(wrapper2)"
   ]
  },
  {
   "cell_type": "code",
   "execution_count": 42,
   "id": "95f95ab8",
   "metadata": {},
   "outputs": [],
   "source": [
    "dpJoshi.simpleMC8(theOption, Spot, VolParam, rParam, NumberOfPaths, gathererTwo, genTwo);"
   ]
  },
  {
   "cell_type": "code",
   "execution_count": 43,
   "id": "e6b31c3a",
   "metadata": {},
   "outputs": [
    {
     "data": {
      "text/plain": [
       "array([[0.00000000e+00, 2.00000000e+00],\n",
       "       [0.00000000e+00, 4.00000000e+00],\n",
       "       [3.56711034e-01, 8.00000000e+00],\n",
       "       [3.56711034e-01, 1.60000000e+01],\n",
       "       [3.56711034e-01, 3.20000000e+01],\n",
       "       [3.41848074e-01, 6.40000000e+01],\n",
       "       [3.64142514e-01, 1.28000000e+02],\n",
       "       [3.49279554e-01, 2.56000000e+02],\n",
       "       [3.41848074e-01, 5.12000000e+02],\n",
       "       [3.47421684e-01, 1.02400000e+03],\n",
       "       [3.44170412e-01, 2.04800000e+03],\n",
       "       [3.29307452e-01, 4.09600000e+03],\n",
       "       [3.25243362e-01, 8.19200000e+03],\n",
       "       [3.21295388e-01, 1.63840000e+04],\n",
       "       [3.17666736e-01, 3.27680000e+04],\n",
       "       [3.21396990e-01, 6.55360000e+04],\n",
       "       [3.21803399e-01, 1.31072000e+05],\n",
       "       [3.21019610e-01, 2.62144000e+05],\n",
       "       [3.20312023e-01, 5.24288000e+05],\n",
       "       [3.19879431e-01, 1.00000000e+06]])"
      ]
     },
     "execution_count": 43,
     "metadata": {},
     "output_type": "execute_result"
    }
   ],
   "source": [
    "gathererTwo.GetResultSoFar()"
   ]
  },
  {
   "cell_type": "markdown",
   "id": "16175246",
   "metadata": {},
   "source": [
    "# Chapter 7: Asian Options & Stuff"
   ]
  },
  {
   "cell_type": "markdown",
   "id": "bf2878aa",
   "metadata": {},
   "source": [
    "## Testing MJArray interface with numpy"
   ]
  },
  {
   "cell_type": "code",
   "execution_count": 44,
   "id": "67f18eae",
   "metadata": {},
   "outputs": [],
   "source": [
    "y = np.array([1,2,3,4,5,6,7,8,9,10]).astype(np.float64)"
   ]
  },
  {
   "cell_type": "code",
   "execution_count": 45,
   "id": "cf1c3567",
   "metadata": {},
   "outputs": [],
   "source": [
    "z = dpJoshi.MJArray(y)"
   ]
  },
  {
   "cell_type": "code",
   "execution_count": 46,
   "id": "7b6d45bb",
   "metadata": {},
   "outputs": [
    {
     "name": "stdout",
     "output_type": "stream",
     "text": [
      "1.0\n",
      "2.0\n",
      "3.0\n",
      "4.0\n",
      "5.0\n",
      "6.0\n",
      "7.0\n",
      "8.0\n",
      "9.0\n",
      "10.0\n"
     ]
    }
   ],
   "source": [
    "for i in range(z.size()):\n",
    "    print(z[i])"
   ]
  },
  {
   "cell_type": "code",
   "execution_count": 47,
   "id": "1f5ac7f5",
   "metadata": {},
   "outputs": [],
   "source": [
    "Expiry = 1.;\n",
    "Strike = 29;\n",
    "Spot = 30;\n",
    "Vol = 0.3;\n",
    "r = 0.08;\n",
    "d = 0;\n",
    "    \n",
    "NumberOfPaths = 1000000;\n",
    "NumberOfDates = 250;\n",
    "   \n",
    "thePayOff = dpJoshi.PayOffCall3(Strike);\n",
    "payOffBridge = dpJoshi.PayOffBridge(thePayOff)\n",
    "times = dpJoshi.MJArray(NumberOfDates);\n",
    "\n",
    "for i in range(NumberOfDates):\n",
    "    \n",
    "    times[i] = (i+1.)*Expiry/NumberOfDates;\n"
   ]
  },
  {
   "cell_type": "markdown",
   "id": "9aab0ada",
   "metadata": {},
   "source": [
    "# BSEngine in action with Asian call :)"
   ]
  },
  {
   "cell_type": "code",
   "execution_count": 48,
   "id": "d0943a8a",
   "metadata": {},
   "outputs": [],
   "source": [
    "VolParamCons = dpJoshi.ParametersConstant(Vol);\n",
    "rParamCons = dpJoshi.ParametersConstant(r);\n",
    "dParamCons = dpJoshi.ParametersConstant(d);\n",
    "\n",
    "VolParam = dpJoshi.Parameters(VolParamCons)\n",
    "rParam = dpJoshi.Parameters(rParamCons)\n",
    "dParam = dpJoshi.Parameters(dParamCons);\n"
   ]
  },
  {
   "cell_type": "code",
   "execution_count": 49,
   "id": "d79972da",
   "metadata": {},
   "outputs": [],
   "source": [
    "theOption = dpJoshi.PathDependentAsian(times, Expiry, payOffBridge)\n",
    "gatherer = dpJoshi.StatisticsMean()\n",
    "wrapper = dpJoshi.WrapperStats(gatherer)\n",
    "gathererTwo = dpJoshi.ConvergenceTable(wrapper)\n",
    "\n",
    "generator = dpJoshi.RandomParkMiller(NumberOfDates,1)\n",
    "wrapper2 = dpJoshi.WrapperRandom(generator)\n",
    "genTwo = dpJoshi.Antithetic(wrapper2)\n",
    "\n",
    "wrapper3 = dpJoshi.WrapperPathDependent(theOption)\n"
   ]
  },
  {
   "cell_type": "code",
   "execution_count": 50,
   "id": "8598c2ee",
   "metadata": {},
   "outputs": [],
   "source": [
    "theEngine = dpJoshi.ExoticBSEngine(wrapper3, rParam, dParam, VolParam, wrapper2, Spot);"
   ]
  },
  {
   "cell_type": "code",
   "execution_count": 51,
   "id": "7b836ef6",
   "metadata": {},
   "outputs": [],
   "source": [
    "theEngine.DoSimulation(gathererTwo, NumberOfPaths)"
   ]
  },
  {
   "cell_type": "code",
   "execution_count": 52,
   "id": "15f84e7f",
   "metadata": {},
   "outputs": [
    {
     "data": {
      "text/plain": [
       "array([[5.50635806e-01, 2.00000000e+00],\n",
       "       [4.65171400e-01, 4.00000000e+00],\n",
       "       [3.15283060e+00, 8.00000000e+00],\n",
       "       [2.95459710e+00, 1.60000000e+01],\n",
       "       [3.16939494e+00, 3.20000000e+01],\n",
       "       [3.57115142e+00, 6.40000000e+01],\n",
       "       [3.51289290e+00, 1.28000000e+02],\n",
       "       [3.23713353e+00, 2.56000000e+02],\n",
       "       [3.19466253e+00, 5.12000000e+02],\n",
       "       [3.21961731e+00, 1.02400000e+03],\n",
       "       [2.95286559e+00, 2.04800000e+03],\n",
       "       [3.11413667e+00, 4.09600000e+03],\n",
       "       [3.16807781e+00, 8.19200000e+03],\n",
       "       [3.15954830e+00, 1.63840000e+04],\n",
       "       [3.14625723e+00, 3.27680000e+04],\n",
       "       [3.13368986e+00, 6.55360000e+04],\n",
       "       [3.13482017e+00, 1.31072000e+05],\n",
       "       [3.14685176e+00, 2.62144000e+05],\n",
       "       [3.14141547e+00, 5.24288000e+05],\n",
       "       [3.14078314e+00, 1.00000000e+06]])"
      ]
     },
     "execution_count": 52,
     "metadata": {},
     "output_type": "execute_result"
    }
   ],
   "source": [
    "gathererTwo.GetResultSoFar()"
   ]
  },
  {
   "cell_type": "markdown",
   "id": "ea129608",
   "metadata": {},
   "source": [
    "# Chapter 8: Trees"
   ]
  },
  {
   "cell_type": "code",
   "execution_count": 3,
   "id": "c93dae88",
   "metadata": {},
   "outputs": [],
   "source": [
    "Expiry = 1.;\n",
    "Strike = 100;\n",
    "Spot = 100;\n",
    "Vol = 0.2;\n",
    "r = 0.05;\n",
    "d = 0;\n",
    "Steps = 1000;\n",
    "\n",
    "thePayOff = dpJoshi.PayOffCall3(Strike);\n",
    "payOffBridge = dpJoshi.PayOffBridge(thePayOff)\n",
    "    \n",
    "rParamCons = dpJoshi.ParametersConstant(r);\n",
    "dParamCons = dpJoshi.ParametersConstant(d);\n",
    "\n",
    "rParam = dpJoshi.Parameters(rParamCons)\n",
    "dParam = dpJoshi.Parameters(dParamCons);   "
   ]
  },
  {
   "cell_type": "code",
   "execution_count": 4,
   "id": "d1718b42",
   "metadata": {},
   "outputs": [],
   "source": [
    "euroOption = dpJoshi.TreeEuropean(Expiry, payOffBridge);\n",
    "theTree = dpJoshi.SimpleBinomialTree(Spot, rParam, dParam, Vol, Steps, Expiry);"
   ]
  },
  {
   "cell_type": "code",
   "execution_count": 5,
   "id": "67657a10",
   "metadata": {},
   "outputs": [
    {
     "data": {
      "text/plain": [
       "10.4521793486298"
      ]
     },
     "execution_count": 5,
     "metadata": {},
     "output_type": "execute_result"
    }
   ],
   "source": [
    "theTree.GetThePrice(euroOption)"
   ]
  },
  {
   "cell_type": "code",
   "execution_count": 6,
   "id": "4c1baeee",
   "metadata": {},
   "outputs": [],
   "source": [
    "fwdPayOff = dpJoshi.PayOffForward(Strike)\n",
    "fwdPayOffBridge = dpJoshi.PayOffBridge(fwdPayOff)"
   ]
  },
  {
   "cell_type": "code",
   "execution_count": 7,
   "id": "01d6231c",
   "metadata": {},
   "outputs": [
    {
     "data": {
      "text/plain": [
       "4.877044216738232"
      ]
     },
     "execution_count": 7,
     "metadata": {},
     "output_type": "execute_result"
    }
   ],
   "source": [
    "fwd = dpJoshi.TreeEuropean(Expiry, fwdPayOffBridge)\n",
    "theTree.GetThePrice(fwd)"
   ]
  },
  {
   "cell_type": "code",
   "execution_count": 8,
   "id": "854ea06e",
   "metadata": {},
   "outputs": [],
   "source": [
    "actualFwdPrice = np.exp(-r*Expiry)*(Spot*np.exp((r-d)*Expiry)-Strike)"
   ]
  },
  {
   "cell_type": "code",
   "execution_count": 9,
   "id": "b4078138",
   "metadata": {},
   "outputs": [
    {
     "data": {
      "text/plain": [
       "4.877057549928611"
      ]
     },
     "execution_count": 9,
     "metadata": {},
     "output_type": "execute_result"
    }
   ],
   "source": [
    "actualFwdPrice"
   ]
  },
  {
   "cell_type": "code",
   "execution_count": 11,
   "id": "ef5bc1cf",
   "metadata": {},
   "outputs": [],
   "source": [
    "BSPrice = dpJoshi.BlackScholesCall(Spot, Strike, r, d, Vol, Expiry);"
   ]
  },
  {
   "cell_type": "code",
   "execution_count": 12,
   "id": "549704e1",
   "metadata": {},
   "outputs": [
    {
     "data": {
      "text/plain": [
       "10.450575619322287"
      ]
     },
     "execution_count": 12,
     "metadata": {},
     "output_type": "execute_result"
    }
   ],
   "source": [
    "BSPrice"
   ]
  },
  {
   "cell_type": "code",
   "execution_count": null,
   "id": "d828a5e5",
   "metadata": {},
   "outputs": [],
   "source": []
  }
 ],
 "metadata": {
  "kernelspec": {
   "display_name": "Python 3",
   "language": "python",
   "name": "python3"
  },
  "language_info": {
   "codemirror_mode": {
    "name": "ipython",
    "version": 3
   },
   "file_extension": ".py",
   "mimetype": "text/x-python",
   "name": "python",
   "nbconvert_exporter": "python",
   "pygments_lexer": "ipython3",
   "version": "3.8.8"
  }
 },
 "nbformat": 4,
 "nbformat_minor": 5
}
