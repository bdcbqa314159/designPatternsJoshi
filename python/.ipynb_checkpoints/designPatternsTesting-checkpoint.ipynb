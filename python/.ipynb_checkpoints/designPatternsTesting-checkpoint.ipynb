{
 "cells": [
  {
   "cell_type": "code",
   "execution_count": 1,
   "id": "ecf75e03",
   "metadata": {},
   "outputs": [],
   "source": [
    "import numpy as np\n",
    "import dpJoshi"
   ]
  },
  {
   "cell_type": "code",
   "execution_count": 2,
   "id": "6baf49be",
   "metadata": {},
   "outputs": [
    {
     "data": {
      "text/plain": [
       "['PayOff',\n",
       " 'PayOff1',\n",
       " 'PayOffCall',\n",
       " 'PayOffDD',\n",
       " 'PayOffPut',\n",
       " '__doc__',\n",
       " '__file__',\n",
       " '__loader__',\n",
       " '__name__',\n",
       " '__package__',\n",
       " '__spec__',\n",
       " 'simpleMC1',\n",
       " 'simpleMC2']"
      ]
     },
     "execution_count": 2,
     "metadata": {},
     "output_type": "execute_result"
    }
   ],
   "source": [
    "dir(dpJoshi)"
   ]
  },
  {
   "cell_type": "markdown",
   "id": "bbb3db6d",
   "metadata": {},
   "source": [
    "# Chapter 1: Testing of SimpleMonteCarlo1 procedural function"
   ]
  },
  {
   "cell_type": "code",
   "execution_count": 3,
   "id": "04e59e8f",
   "metadata": {},
   "outputs": [],
   "source": [
    "Expiry = 1.;\n",
    "Strike = 100;\n",
    "Spot = 100;\n",
    "Vol = 0.2;\n",
    "r = 0.05;\n",
    "NumberOfPaths = 100000;\n",
    "    \n",
    "    \n",
    "result = dpJoshi.simpleMC1(Expiry, Strike, Spot, Vol, r, NumberOfPaths);"
   ]
  },
  {
   "cell_type": "code",
   "execution_count": 4,
   "id": "f4434c63",
   "metadata": {},
   "outputs": [
    {
     "data": {
      "text/plain": [
       "10.489101071914316"
      ]
     },
     "execution_count": 4,
     "metadata": {},
     "output_type": "execute_result"
    }
   ],
   "source": [
    "result"
   ]
  },
  {
   "cell_type": "markdown",
   "id": "9bd1faba",
   "metadata": {},
   "source": [
    "# Chapter 3: Testing of SimpleMonteCarlo2 procedural function"
   ]
  },
  {
   "cell_type": "code",
   "execution_count": 5,
   "id": "c6525f36",
   "metadata": {},
   "outputs": [],
   "source": [
    "callPayOff = dpJoshi.PayOff1(100, dpJoshi.PayOff1.call)\n",
    "putPayOff = dpJoshi.PayOff1(100, dpJoshi.PayOff1.put)\n",
    "\n",
    "Expiry = 1.;\n",
    "Spot = 100;\n",
    "Vol = 0.2;\n",
    "r = 0.05;\n",
    "NumberOfPaths = 100000;"
   ]
  },
  {
   "cell_type": "code",
   "execution_count": 6,
   "id": "94fa3b47",
   "metadata": {},
   "outputs": [],
   "source": [
    "resultCall = dpJoshi.simpleMC2(callPayOff, Expiry, Spot, Vol, r, NumberOfPaths);\n",
    "resultPut = dpJoshi.simpleMC2(putPayOff, Expiry, Spot, Vol, r, NumberOfPaths);"
   ]
  },
  {
   "cell_type": "code",
   "execution_count": 7,
   "id": "158f6f87",
   "metadata": {},
   "outputs": [
    {
     "data": {
      "text/plain": [
       "10.47436669067924"
      ]
     },
     "execution_count": 7,
     "metadata": {},
     "output_type": "execute_result"
    }
   ],
   "source": [
    "resultCall"
   ]
  },
  {
   "cell_type": "code",
   "execution_count": 8,
   "id": "23d18563",
   "metadata": {},
   "outputs": [
    {
     "data": {
      "text/plain": [
       "5.5559632048892515"
      ]
     },
     "execution_count": 8,
     "metadata": {},
     "output_type": "execute_result"
    }
   ],
   "source": [
    "resultPut"
   ]
  },
  {
   "cell_type": "markdown",
   "id": "12415d16",
   "metadata": {},
   "source": [
    "# Chapter 3: Testing of SimpleMonteCarlo2 with virtual inheritance for PayOff class"
   ]
  },
  {
   "cell_type": "code",
   "execution_count": 10,
   "id": "8aaf4596",
   "metadata": {},
   "outputs": [],
   "source": [
    "callPayOff = dpJoshi.PayOffCall(100)\n",
    "putPayOff = dpJoshi.PayOffPut(100)\n",
    "doubleDigitalPayOff = dpJoshi.PayOffDD(100,120)\n",
    "\n",
    "Expiry = 1.;\n",
    "Spot = 100;\n",
    "Vol = 0.2;\n",
    "r = 0.05;\n",
    "NumberOfPaths = 100000;"
   ]
  },
  {
   "cell_type": "code",
   "execution_count": 11,
   "id": "40913cd2",
   "metadata": {},
   "outputs": [],
   "source": [
    "resultCall = dpJoshi.simpleMC2(callPayOff, Expiry, Spot, Vol, r, NumberOfPaths);\n",
    "resultPut = dpJoshi.simpleMC2(putPayOff, Expiry, Spot, Vol, r, NumberOfPaths);\n",
    "resultDD = dpJoshi.simpleMC2(doubleDigitalPayOff, Expiry, Spot, Vol, r, NumberOfPaths);\n"
   ]
  },
  {
   "cell_type": "code",
   "execution_count": 12,
   "id": "cba4a131",
   "metadata": {},
   "outputs": [
    {
     "data": {
      "text/plain": [
       "10.466119485719426"
      ]
     },
     "execution_count": 12,
     "metadata": {},
     "output_type": "execute_result"
    }
   ],
   "source": [
    "resultCall"
   ]
  },
  {
   "cell_type": "code",
   "execution_count": 13,
   "id": "1b05f48a",
   "metadata": {},
   "outputs": [
    {
     "data": {
      "text/plain": [
       "5.560518126914602"
      ]
     },
     "execution_count": 13,
     "metadata": {},
     "output_type": "execute_result"
    }
   ],
   "source": [
    "resultPut"
   ]
  },
  {
   "cell_type": "code",
   "execution_count": 14,
   "id": "ed9dc28e",
   "metadata": {},
   "outputs": [
    {
     "data": {
      "text/plain": [
       "0.3177486769602185"
      ]
     },
     "execution_count": 14,
     "metadata": {},
     "output_type": "execute_result"
    }
   ],
   "source": [
    "resultDD"
   ]
  },
  {
   "cell_type": "code",
   "execution_count": null,
   "id": "dbac863f",
   "metadata": {},
   "outputs": [],
   "source": []
  }
 ],
 "metadata": {
  "kernelspec": {
   "display_name": "Python 3",
   "language": "python",
   "name": "python3"
  },
  "language_info": {
   "codemirror_mode": {
    "name": "ipython",
    "version": 3
   },
   "file_extension": ".py",
   "mimetype": "text/x-python",
   "name": "python",
   "nbconvert_exporter": "python",
   "pygments_lexer": "ipython3",
   "version": "3.8.8"
  }
 },
 "nbformat": 4,
 "nbformat_minor": 5
}
